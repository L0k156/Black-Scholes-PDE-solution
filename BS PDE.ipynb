{
 "cells": [
  {
   "cell_type": "markdown",
   "id": "13c3e908-625d-44cb-b104-8667a82ec825",
   "metadata": {},
   "source": [
    "## Black-Scholes (BS) Partial Differential Equation (PDE) America/European options\n",
    "\n",
    "#### BS PDE governs the dynamics of option pricing:\n",
    "\n",
    "$$\n",
    "\\frac{\\partial V}{\\partial t} + \\frac{1}{2} \\sigma^2 S^2 \\frac{\\partial^2 V}{\\partial S^2} + rS \\frac{\\partial V}{\\partial S} - rV = 0\n",
    "$$"
   ]
  },
  {
   "cell_type": "markdown",
   "id": "37097919-7873-40e0-bcd1-e1b580c96b3c",
   "metadata": {},
   "source": [
    "#### with dividend yield:\n",
    "\n",
    "$$\r\n",
    "\\frac{\\partial V}{\\partial t} + \\frac{1}{2} \\sigma^2 S^2 \\frac{\\partial^2 V}{\\partial S^2} + (r - q)S \\frac{\\partial V}{\\partial S} - rV = 0\r\n",
    "$$\r\n"
   ]
  },
  {
   "cell_type": "code",
   "execution_count": 1,
   "id": "a135e2a0-0a5e-4d50-9d13-439d986e199b",
   "metadata": {},
   "outputs": [],
   "source": [
    "import numpy as np\n",
    "import scipy.stats as ss\n",
    "from scipy.sparse.linalg import spsolve\n",
    "from scipy import sparse\n",
    "from scipy.sparse.linalg import splu\n",
    "from time import time"
   ]
  },
  {
   "cell_type": "markdown",
   "id": "340fc48e-2d56-4f37-8d41-d39b886379df",
   "metadata": {},
   "source": [
    "## BS closed form solution for comparisson"
   ]
  },
  {
   "cell_type": "code",
   "execution_count": 2,
   "id": "06816352-f62d-454d-9431-2bf94c538ba2",
   "metadata": {},
   "outputs": [],
   "source": [
    "def closed_formula(S0, K, T, r, q, sig, payoff):\n",
    "    \"\"\"\n",
    "    Black Scholes closed formula for option pricing.\n",
    "   \n",
    "    Parameters:\n",
    "        S0: float, current stock price\n",
    "        K: float, strike price\n",
    "        T: float, time to maturity\n",
    "        r: float, risk-free rate\n",
    "        q: float, dividend yield\n",
    "        sig: float, volatility of the underlying asset\n",
    "        payoff: str, type of option (\"call\" or \"put\")\n",
    "       \n",
    "    Returns:\n",
    "        float, option price\n",
    "    \"\"\"\n",
    "    d1 = (np.log(S0 / K) + (r - q + sig**2 / 2) * T) / (sig * np.sqrt(T))\n",
    "    d2 = d1 - sig * np.sqrt(T)\n",
    "\n",
    "    if payoff == \"call\":\n",
    "        return S0 * np.exp(-q * T) * ss.norm.cdf(d1) - K * np.exp(-r * T) * ss.norm.cdf(d2)\n",
    "    elif payoff == \"put\":\n",
    "        return K * np.exp(-r * T) * ss.norm.cdf(-d2) - S0 * np.exp(-q * T) * ss.norm.cdf(-d1)\n",
    "    else:\n",
    "        raise ValueError(\"Invalid type. Set 'call' or 'put'\")"
   ]
  },
  {
   "cell_type": "markdown",
   "id": "3d3d38b8-1ab2-42d2-ad76-5360b82030e9",
   "metadata": {},
   "source": [
    "## BS PDE solution"
   ]
  },
  {
   "cell_type": "code",
   "execution_count": 3,
   "id": "465b179f-afcd-45ad-97f0-15f8cbd60ff8",
   "metadata": {},
   "outputs": [],
   "source": [
    "def PDE_price(S0, K, T, r, q, sig, steps, payoff=\"call\", exercise=\"European\", solver=\"splu\", Time = False):\n",
    "    \"\"\"\n",
    "    Computes option price using finite-difference Black-Scholes PDE.\n",
    "   \n",
    "    Parameters:\n",
    "        S0: float, current stock price\n",
    "        K: float, strike price\n",
    "        T: float, time to maturity\n",
    "        r: float, risk-free rate\n",
    "        q: float, dividend yield\n",
    "        sig: float, volatility of the underlying asset\n",
    "        steps: tuple, number of space and time steps (Nspace, Ntime)\n",
    "        payoff: str, type of option (\"call\" or \"put\")\n",
    "        exercise: str, type of exercise (\"European\" or \"American\")\n",
    "        solver: str, type of solver (\"splu\" or \"spsolve\")\n",
    "       \n",
    "    Returns:\n",
    "        float, option price\n",
    "    \"\"\"\n",
    "    t_init = time()\n",
    "\n",
    "    Nspace = steps[0]\n",
    "    Ntime = steps[1]\n",
    "\n",
    "    S_max = 6 * float(K)\n",
    "    S_min = float(K) / 6\n",
    "    x_max = np.log(S_max)\n",
    "    x_min = np.log(S_min)\n",
    "    x0 = np.log(S0)  # current log-price\n",
    "\n",
    "    x, dx = np.linspace(x_min, x_max, Nspace, retstep=True)\n",
    "    t, dt = np.linspace(0, T, Ntime, retstep=True)\n",
    "\n",
    "    S_vec = np.exp(x)  # vector of S\n",
    "    Payoff = np.maximum(S_vec - K, 0) if payoff == \"call\" else np.maximum(K - S_vec, 0)\n",
    "\n",
    "    V = np.zeros((Nspace, Ntime))\n",
    "    if payoff == \"call\":\n",
    "        V[:, -1] = Payoff\n",
    "        V[-1, :] = np.exp(x_max) - K * np.exp(-r * t[::-1])\n",
    "        V[0, :] = 0\n",
    "    else:\n",
    "        V[:, -1] = Payoff\n",
    "        V[-1, :] = 0\n",
    "        V[0, :] = Payoff[0] * np.exp(-r * t[::-1])  \n",
    "\n",
    "    sig2 = sig**2\n",
    "    dxx = dx**2\n",
    "    a = (dt / 2) * ((r - q - 0.5 * sig2) / dx - sig2 / dxx)\n",
    "    b = 1 + dt * (sig2 / dxx + r)\n",
    "    c = -(dt / 2) * ((r - q - 0.5 * sig2) / dx + sig2 / dxx)\n",
    "\n",
    "    D = sparse.diags([a, b, c], [-1, 0, 1], shape=(Nspace - 2, Nspace - 2)).tocsc()\n",
    "\n",
    "    offset = np.zeros(Nspace - 2)\n",
    "\n",
    "    if solver == \"spsolve\":\n",
    "        if exercise == \"European\":\n",
    "            for i in range(Ntime - 2, -1, -1):\n",
    "                offset[0] = a * V[0, i]\n",
    "                offset[-1] = c * V[-1, i]\n",
    "                V[1:-1, i] = spsolve(D, (V[1:-1, i + 1] - offset))\n",
    "        elif exercise == \"American\":\n",
    "            for i in range(Ntime - 2, -1, -1):\n",
    "                offset[0] = a * V[0, i]\n",
    "                offset[-1] = c * V[-1, i]\n",
    "                V[1:-1, i] = np.maximum(spsolve(D, (V[1:-1, i + 1] - offset)), Payoff[1:-1])\n",
    "\n",
    "    elif solver == \"splu\":\n",
    "        DD = splu(D)\n",
    "        if exercise == \"European\":\n",
    "            for i in range(Ntime - 2, -1, -1):\n",
    "                offset[0] = a * V[0, i]\n",
    "                offset[-1] = c * V[-1, i]\n",
    "                V[1:-1, i] = DD.solve(V[1:-1, i + 1] - offset)\n",
    "        elif exercise == \"American\":\n",
    "            for i in range(Ntime - 2, -1, -1):\n",
    "                offset[0] = a * V[0, i]\n",
    "                offset[-1] = c * V[-1, i]\n",
    "                V[1:-1, i] = np.maximum(DD.solve(V[1:-1, i + 1] - offset), Payoff[1:-1])\n",
    "    else:\n",
    "        raise ValueError(\"Solver is splu or spsolve\")\n",
    "\n",
    "    price = np.interp(x0, x, V[:, 0])\n",
    "\n",
    "    if Time is True:\n",
    "        elapsed = time() - t_init\n",
    "        return price, elapsed\n",
    "    else:\n",
    "        return price"
   ]
  },
  {
   "cell_type": "code",
   "execution_count": 8,
   "id": "bb2e8aed-907f-4147-aceb-0a675e38e8c8",
   "metadata": {},
   "outputs": [
    {
     "name": "stdout",
     "output_type": "stream",
     "text": [
      "Option price using closed-form formula: 17.850548877543837\n",
      "Option price using finite-difference Black-Scholes PDE: 17.850516456555013 Time: 3.4829864501953125 splu solver much faster run a slow PC\n",
      "Option price using finite-difference Black-Scholes PDE: 17.850516456555013 Time: 67.93569421768188\n",
      "Difference: -0.000032\n"
     ]
    }
   ],
   "source": [
    "# Define option parameters\n",
    "S0 = 100  # current stock price\n",
    "K = 100   # strike price\n",
    "T = 1    # time to maturity (in years)\n",
    "r = 0.1 # risk-free rate\n",
    "q = 0.03   # dividend yield\n",
    "sig = 0.35 # volatility of the underlying asset\n",
    "steps = (2000, 20000)  # number of space and time steps, **I find increased number of time steps to improve the result**\n",
    "payoff = \"call\"  # type of option (\"call\" or \"put\")\n",
    "exercise = \"European\"  # type of exercise (\"European\" or \"American\")\n",
    "\n",
    "# Compute option price using closed-form formula\n",
    "price_closed_form = closed_formula(S0, K, T, r, q, sig, payoff)\n",
    "print(\"Option price using closed-form formula:\", price_closed_form)\n",
    "\n",
    "# Compute option price using finite-difference Black-Scholes PDE\n",
    "price_PDE = PDE_price(S0, K, T, r, q, sig, steps, payoff, exercise, \"splu\", True)\n",
    "print(\"Option price using finite-difference Black-Scholes PDE:\", price_PDE[0], \"Time:\", price_PDE[1], \"splu solver much faster run a slow PC\")\n",
    "price_PDE_1 = PDE_price(S0, K, T, r, q, sig, steps, payoff, exercise, \"spsolve\", True)\n",
    "print(\"Option price using finite-difference Black-Scholes PDE:\", price_PDE_1[0], \"Time:\", price_PDE_1[1])\n",
    "print(\"Difference:\", \"{:.6f}\".format(price_PDE[0] - price_closed_form))"
   ]
  },
  {
   "cell_type": "code",
   "execution_count": 12,
   "id": "482750dd-51c0-4b41-abaf-f7f14c746ad3",
   "metadata": {},
   "outputs": [
    {
     "name": "stdout",
     "output_type": "stream",
     "text": [
      "(9.329254191825532, 4.104466676712036)\n",
      "(10.3826014965317, 3.6549758911132812)\n"
     ]
    }
   ],
   "source": [
    "print(PDE_price(S0, K, T, r, q, sig, steps, 'put', 'European', \"splu\", True))\n",
    "print(PDE_price(S0, K, T, r, q, sig, steps, 'put', \"American\", \"splu\", True))"
   ]
  },
  {
   "cell_type": "markdown",
   "id": "8001f648-8a2b-4144-85b4-d27f7de1e5ca",
   "metadata": {},
   "source": [
    "#### Literature used\n",
    "\n",
    "###### https://github.com/cantaro86/Financial-Models-Numerical-Methods/blob/master/src/FMNM/BS_pricer.py   -> with modification in the code, and added the dividends yield parameter\n",
    "\n",
    "###### Wilmott Paul (1994). Option pricing: Mathematical models and computation. Oxford Financial Press."
   ]
  },
  {
   "cell_type": "code",
   "execution_count": null,
   "id": "ceac1f6e-b354-461e-96ef-17f3bed9be83",
   "metadata": {},
   "outputs": [],
   "source": []
  }
 ],
 "metadata": {
  "kernelspec": {
   "display_name": "Python 3 (ipykernel)",
   "language": "python",
   "name": "python3"
  },
  "language_info": {
   "codemirror_mode": {
    "name": "ipython",
    "version": 3
   },
   "file_extension": ".py",
   "mimetype": "text/x-python",
   "name": "python",
   "nbconvert_exporter": "python",
   "pygments_lexer": "ipython3",
   "version": "3.11.7"
  }
 },
 "nbformat": 4,
 "nbformat_minor": 5
}
